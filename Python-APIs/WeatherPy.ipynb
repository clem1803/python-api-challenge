{
 "cells": [
  {
   "cell_type": "markdown",
   "metadata": {},
   "source": [
    "# WeatherPy\n",
    "----\n",
    "\n",
    "#### Note\n",
    "* Instructions have been included for each segment. You do not have to follow them exactly, but they are included to help you think through the steps."
   ]
  },
  {
   "cell_type": "code",
   "execution_count": 1,
   "metadata": {
    "scrolled": true
   },
   "outputs": [],
   "source": [
    "#! pip install citipy"
   ]
  },
  {
   "cell_type": "code",
   "execution_count": 2,
   "metadata": {
    "scrolled": true
   },
   "outputs": [],
   "source": [
    "# Dependencies and Setup\n",
    "import matplotlib.pyplot as plt\n",
    "import pandas as pd\n",
    "import numpy as np\n",
    "import requests\n",
    "import time\n",
    "from scipy.stats import linregress\n",
    "\n",
    "# Import API key\n",
    "from api_keys import weather_api_key\n",
    "\n",
    "# Incorporated citipy to determine city based on latitude and longitude\n",
    "from citipy import citipy\n",
    "\n",
    "# Output File (CSV)\n",
    "output_data_file = \"output_data/cities.csv\"\n",
    "\n",
    "# Range of latitudes and longitudes\n",
    "lat_range = (-90, 90)\n",
    "lng_range = (-180, 180)"
   ]
  },
  {
   "cell_type": "markdown",
   "metadata": {},
   "source": [
    "## Generate Cities List"
   ]
  },
  {
   "cell_type": "code",
   "execution_count": 3,
   "metadata": {},
   "outputs": [
    {
     "data": {
      "text/plain": [
       "38"
      ]
     },
     "execution_count": 3,
     "metadata": {},
     "output_type": "execute_result"
    }
   ],
   "source": [
    "# List for holding lat_lngs and cities\n",
    "lat_lngs = []\n",
    "cities = []\n",
    "\n",
    "# Create a set of random lat and lng combinations\n",
    "lats = np.random.uniform(lat_range[0], lat_range[1], size=50)\n",
    "lngs = np.random.uniform(lng_range[0], lng_range[1], size=50)\n",
    "lat_lngs = zip(lats, lngs)\n",
    "\n",
    "# Identify nearest city for each lat, lng combination\n",
    "for lat_lng in lat_lngs:\n",
    "    city = citipy.nearest_city(lat_lng[0], lat_lng[1]).city_name\n",
    "    \n",
    "    # If the city is unique, then add it to a our cities list\n",
    "    if city not in cities:\n",
    "        cities.append(city)\n",
    "\n",
    "# Print the city count to confirm sufficient count\n",
    "len(cities)"
   ]
  },
  {
   "cell_type": "markdown",
   "metadata": {},
   "source": [
    "### Perform API Calls\n",
    "* Perform a weather check on each city using a series of successive API calls.\n",
    "* Include a print log of each city as it'sbeing processed (with the city number and city name).\n"
   ]
  },
  {
   "cell_type": "code",
   "execution_count": 4,
   "metadata": {},
   "outputs": [],
   "source": [
    "weather_api_key=\"49ba143b13058e1bf6db479d6fab2305\""
   ]
  },
  {
   "cell_type": "code",
   "execution_count": 5,
   "metadata": {},
   "outputs": [
    {
     "data": {
      "text/plain": [
       "'http://api.openweathermap.org/data/2.5/weather?APPID=49ba143b13058e1bf6db479d6fab2305&q='"
      ]
     },
     "execution_count": 5,
     "metadata": {},
     "output_type": "execute_result"
    }
   ],
   "source": [
    "base_url = \"http://api.openweathermap.org/data/2.5/weather?APPID=\" + weather_api_key + \"&q=\"\n",
    "base_url"
   ]
  },
  {
   "cell_type": "code",
   "execution_count": null,
   "metadata": {},
   "outputs": [],
   "source": [
    "\"http://api.openweathermap.org/data/2.5/weather?APPID=\" + weather_api_key + \"rikitea\""
   ]
  },
  {
   "cell_type": "code",
   "execution_count": 6,
   "metadata": {},
   "outputs": [
    {
     "data": {
      "text/plain": [
       "{'cod': '400', 'message': 'Nothing to geocode'}"
      ]
     },
     "execution_count": 6,
     "metadata": {},
     "output_type": "execute_result"
    }
   ],
   "source": [
    "requests.get(base_url).json()"
   ]
  },
  {
   "cell_type": "code",
   "execution_count": 7,
   "metadata": {},
   "outputs": [],
   "source": [
    "city_info = []"
   ]
  },
  {
   "cell_type": "code",
   "execution_count": 14,
   "metadata": {},
   "outputs": [
    {
     "name": "stdout",
     "output_type": "stream",
     "text": [
      "Not found\n",
      "Not found\n",
      "Not found\n",
      "Not found\n",
      "[{'lon': -68.5914, 'lat': 70.4692}, {'lon': -45.2371, 'lat': 60.1432}, {'lon': 168.8643, 'lat': -46.1927}, {'lon': -68.3, 'lat': -54.8}, {'lon': -127.4199, 'lat': 50.6996}, {'lon': 57.7575, 'lat': -20.3428}, {'lon': -134.9692, 'lat': -23.1203}, {'lon': -139.0333, 'lat': -9.8}, {'lon': 115.3333, 'lat': -33.65}, {'lon': -107.2387, 'lat': 41.7911}, {'lon': -70.9167, 'lat': -53.15}, {'lon': -110.9211, 'lat': 32.5056}, {'lon': 161.3, 'lat': 68.75}, {'lon': 34.8389, 'lat': -19.8436}, {'lon': -101.2541, 'lat': 53.8251}, {'lon': 102.2655, 'lat': -3.8004}, {'lon': 19.2345, 'lat': -34.4187}, {'lon': 121.9, 'lat': -33.8667}, {'lon': -73.9662, 'lat': 42.6001}, {'lon': 2.8457, 'lat': 41.6999}, {'lon': -73.414, 'lat': 41.3712}, {'lon': 78.7, 'lat': 67.4667}, {'lon': -175.2, 'lat': -21.2}, {'lon': 113.6333, 'lat': -24.8667}, {'lon': 85.85, 'lat': 19.8}, {'lon': -9.0603, 'lat': 42.7762}, {'lon': 102.5, 'lat': 71.9667}, {'lon': -57.5575, 'lat': -38.0023}, {'lon': -52.0986, 'lat': -32.035}, {'lon': -156.7887, 'lat': 71.2906}, {'lon': 153.6833, 'lat': 67.45}, {'lon': 21.2561, 'lat': -28.4478}, {'lon': 25.5701, 'lat': -33.918}, {'lon': -114.0484, 'lat': 46.8633}, {'lon': -68.5914, 'lat': 70.4692}, {'lon': -45.2371, 'lat': 60.1432}, {'lon': 168.8643, 'lat': -46.1927}, {'lon': -68.3, 'lat': -54.8}, {'lon': -127.4199, 'lat': 50.6996}, {'lon': 57.7575, 'lat': -20.3428}, {'lon': -134.9692, 'lat': -23.1203}, {'lon': -139.0333, 'lat': -9.8}, {'lon': 115.3333, 'lat': -33.65}, {'lon': -107.2387, 'lat': 41.7911}, {'lon': -70.9167, 'lat': -53.15}, {'lon': -110.9211, 'lat': 32.5056}, {'lon': 161.3, 'lat': 68.75}, {'lon': 34.8389, 'lat': -19.8436}, {'lon': -101.2541, 'lat': 53.8251}, {'lon': 102.2655, 'lat': -3.8004}, {'lon': 19.2345, 'lat': -34.4187}, {'lon': 121.9, 'lat': -33.8667}, {'lon': -73.9662, 'lat': 42.6001}, {'lon': 2.8457, 'lat': 41.6999}, {'lon': -73.414, 'lat': 41.3712}, {'lon': 78.7, 'lat': 67.4667}, {'lon': -175.2, 'lat': -21.2}, {'lon': 113.6333, 'lat': -24.8667}, {'lon': 85.85, 'lat': 19.8}, {'lon': -9.0603, 'lat': 42.7762}, {'lon': 102.5, 'lat': 71.9667}, {'lon': -57.5575, 'lat': -38.0023}, {'lon': -52.0986, 'lat': -32.035}, {'lon': -156.7887, 'lat': 71.2906}, {'lon': 153.6833, 'lat': 67.45}, {'lon': 21.2561, 'lat': -28.4478}, {'lon': 25.5701, 'lat': -33.918}, {'lon': -114.0484, 'lat': 46.8633}, {'lon': -68.5914, 'lat': 70.4692}, {'lon': -45.2371, 'lat': 60.1432}, {'lon': 168.8643, 'lat': -46.1927}, {'lon': -68.3, 'lat': -54.8}, {'lon': -127.4199, 'lat': 50.6996}, {'lon': 57.7575, 'lat': -20.3428}, {'lon': -134.9692, 'lat': -23.1203}, {'lon': -139.0333, 'lat': -9.8}, {'lon': 115.3333, 'lat': -33.65}, {'lon': -107.2387, 'lat': 41.7911}, {'lon': -70.9167, 'lat': -53.15}, {'lon': -110.9211, 'lat': 32.5056}, {'lon': 161.3, 'lat': 68.75}, {'lon': 34.8389, 'lat': -19.8436}, {'lon': -101.2541, 'lat': 53.8251}, {'lon': 102.2655, 'lat': -3.8004}, {'lon': 19.2345, 'lat': -34.4187}, {'lon': 121.9, 'lat': -33.8667}, {'lon': -73.9662, 'lat': 42.6001}, {'lon': 2.8457, 'lat': 41.6999}, {'lon': -73.414, 'lat': 41.3712}, {'lon': 78.7, 'lat': 67.4667}, {'lon': -175.2, 'lat': -21.2}, {'lon': 113.6333, 'lat': -24.8667}, {'lon': 85.85, 'lat': 19.8}, {'lon': -9.0603, 'lat': 42.7762}, {'lon': 102.5, 'lat': 71.9667}, {'lon': -57.5575, 'lat': -38.0023}, {'lon': -52.0986, 'lat': -32.035}, {'lon': -156.7887, 'lat': 71.2906}, {'lon': 153.6833, 'lat': 67.45}, {'lon': 21.2561, 'lat': -28.4478}, {'lon': 25.5701, 'lat': -33.918}, {'lon': -114.0484, 'lat': 46.8633}]\n"
     ]
    }
   ],
   "source": [
    "for city in cities:\n",
    "    url = base_url + city\n",
    "    try:\n",
    "        #print(city)\n",
    "        city_weather = requests.get(url).json()\n",
    "        city_lon = city_weather[\"coord\"][\"lon\"]\n",
    "        city_lan = city_weather[\"coord\"][\"lat\"]\n",
    "        city_info.append({\"lon\": city_lon, \"lat\": city_lan})\n",
    "        #print(city_info)\n",
    "    except:\n",
    "        print(f\"Not found\")\n",
    "print(city_info)"
   ]
  },
  {
   "cell_type": "code",
   "execution_count": 9,
   "metadata": {},
   "outputs": [
    {
     "data": {
      "text/plain": [
       "['clyde river',\n",
       " 'nanortalik',\n",
       " 'mataura',\n",
       " 'ushuaia',\n",
       " 'port hardy',\n",
       " 'bambous virieux',\n",
       " 'rikitea',\n",
       " 'atuona',\n",
       " 'busselton',\n",
       " 'rawlins',\n",
       " 'punta arenas',\n",
       " 'catalina',\n",
       " 'cherskiy',\n",
       " 'illoqqortoormiut',\n",
       " 'beira',\n",
       " 'the pas',\n",
       " 'bengkulu',\n",
       " 'hermanus',\n",
       " 'sentyabrskiy',\n",
       " 'taolanaro',\n",
       " 'esperance',\n",
       " 'vaitupu',\n",
       " 'albany',\n",
       " 'lloret de mar',\n",
       " 'bethel',\n",
       " 'tazovskiy',\n",
       " 'vaini',\n",
       " 'carnarvon',\n",
       " 'puri',\n",
       " 'muros',\n",
       " 'khatanga',\n",
       " 'mar del plata',\n",
       " 'rio grande',\n",
       " 'barrow',\n",
       " 'srednekolymsk',\n",
       " 'upington',\n",
       " 'port elizabeth',\n",
       " 'orchard homes']"
      ]
     },
     "execution_count": 9,
     "metadata": {},
     "output_type": "execute_result"
    }
   ],
   "source": [
    "cities"
   ]
  },
  {
   "cell_type": "code",
   "execution_count": 12,
   "metadata": {},
   "outputs": [
    {
     "data": {
      "text/plain": [
       "[{'lon': -68.5914, 'lat': 70.4692},\n",
       " {'lon': -45.2371, 'lat': 60.1432},\n",
       " {'lon': 168.8643, 'lat': -46.1927},\n",
       " {'lon': -68.3, 'lat': -54.8},\n",
       " {'lon': -127.4199, 'lat': 50.6996},\n",
       " {'lon': 57.7575, 'lat': -20.3428},\n",
       " {'lon': -134.9692, 'lat': -23.1203},\n",
       " {'lon': -139.0333, 'lat': -9.8},\n",
       " {'lon': 115.3333, 'lat': -33.65},\n",
       " {'lon': -107.2387, 'lat': 41.7911},\n",
       " {'lon': -70.9167, 'lat': -53.15},\n",
       " {'lon': -110.9211, 'lat': 32.5056},\n",
       " {'lon': 161.3, 'lat': 68.75},\n",
       " {'lon': 34.8389, 'lat': -19.8436},\n",
       " {'lon': -101.2541, 'lat': 53.8251},\n",
       " {'lon': 102.2655, 'lat': -3.8004},\n",
       " {'lon': 19.2345, 'lat': -34.4187},\n",
       " {'lon': 121.9, 'lat': -33.8667},\n",
       " {'lon': -73.9662, 'lat': 42.6001},\n",
       " {'lon': 2.8457, 'lat': 41.6999},\n",
       " {'lon': -73.414, 'lat': 41.3712},\n",
       " {'lon': 78.7, 'lat': 67.4667},\n",
       " {'lon': -175.2, 'lat': -21.2},\n",
       " {'lon': 113.6333, 'lat': -24.8667},\n",
       " {'lon': 85.85, 'lat': 19.8},\n",
       " {'lon': -9.0603, 'lat': 42.7762},\n",
       " {'lon': 102.5, 'lat': 71.9667},\n",
       " {'lon': -57.5575, 'lat': -38.0023},\n",
       " {'lon': -52.0986, 'lat': -32.035},\n",
       " {'lon': -156.7887, 'lat': 71.2906},\n",
       " {'lon': 153.6833, 'lat': 67.45},\n",
       " {'lon': 21.2561, 'lat': -28.4478},\n",
       " {'lon': 25.5701, 'lat': -33.918},\n",
       " {'lon': -114.0484, 'lat': 46.8633}]"
      ]
     },
     "execution_count": 12,
     "metadata": {},
     "output_type": "execute_result"
    }
   ],
   "source": [
    "city_info"
   ]
  },
  {
   "cell_type": "code",
   "execution_count": null,
   "metadata": {},
   "outputs": [],
   "source": []
  },
  {
   "cell_type": "code",
   "execution_count": null,
   "metadata": {},
   "outputs": [],
   "source": []
  },
  {
   "cell_type": "code",
   "execution_count": null,
   "metadata": {},
   "outputs": [],
   "source": []
  },
  {
   "cell_type": "code",
   "execution_count": null,
   "metadata": {},
   "outputs": [],
   "source": []
  },
  {
   "cell_type": "code",
   "execution_count": null,
   "metadata": {},
   "outputs": [],
   "source": []
  },
  {
   "cell_type": "code",
   "execution_count": null,
   "metadata": {},
   "outputs": [],
   "source": []
  },
  {
   "cell_type": "code",
   "execution_count": null,
   "metadata": {
    "scrolled": true
   },
   "outputs": [],
   "source": []
  },
  {
   "cell_type": "markdown",
   "metadata": {},
   "source": [
    "### Convert Raw Data to DataFrame\n",
    "* Export the city data into a .csv.\n",
    "* Display the DataFrame"
   ]
  },
  {
   "cell_type": "code",
   "execution_count": null,
   "metadata": {},
   "outputs": [],
   "source": []
  },
  {
   "cell_type": "code",
   "execution_count": null,
   "metadata": {},
   "outputs": [],
   "source": []
  },
  {
   "cell_type": "markdown",
   "metadata": {},
   "source": [
    "## Inspect the data and remove the cities where the humidity > 100%.\n",
    "----\n",
    "Skip this step if there are no cities that have humidity > 100%. "
   ]
  },
  {
   "cell_type": "code",
   "execution_count": null,
   "metadata": {},
   "outputs": [],
   "source": []
  },
  {
   "cell_type": "code",
   "execution_count": 10,
   "metadata": {},
   "outputs": [],
   "source": [
    "#  Get the indices of cities that have humidity over 100%.\n"
   ]
  },
  {
   "cell_type": "code",
   "execution_count": 11,
   "metadata": {},
   "outputs": [],
   "source": [
    "# Make a new DataFrame equal to the city data to drop all humidity outliers by index.\n",
    "# Passing \"inplace=False\" will make a copy of the city_data DataFrame, which we call \"clean_city_data\".\n"
   ]
  },
  {
   "cell_type": "code",
   "execution_count": null,
   "metadata": {},
   "outputs": [],
   "source": [
    "\n"
   ]
  },
  {
   "cell_type": "markdown",
   "metadata": {},
   "source": [
    "## Plotting the Data\n",
    "* Use proper labeling of the plots using plot titles (including date of analysis) and axes labels.\n",
    "* Save the plotted figures as .pngs."
   ]
  },
  {
   "cell_type": "markdown",
   "metadata": {},
   "source": [
    "## Latitude vs. Temperature Plot"
   ]
  },
  {
   "cell_type": "code",
   "execution_count": null,
   "metadata": {
    "scrolled": true
   },
   "outputs": [],
   "source": []
  },
  {
   "cell_type": "markdown",
   "metadata": {},
   "source": [
    "## Latitude vs. Humidity Plot"
   ]
  },
  {
   "cell_type": "code",
   "execution_count": null,
   "metadata": {},
   "outputs": [],
   "source": []
  },
  {
   "cell_type": "markdown",
   "metadata": {},
   "source": [
    "## Latitude vs. Cloudiness Plot"
   ]
  },
  {
   "cell_type": "code",
   "execution_count": null,
   "metadata": {},
   "outputs": [],
   "source": []
  },
  {
   "cell_type": "markdown",
   "metadata": {},
   "source": [
    "## Latitude vs. Wind Speed Plot"
   ]
  },
  {
   "cell_type": "code",
   "execution_count": null,
   "metadata": {},
   "outputs": [],
   "source": []
  },
  {
   "cell_type": "markdown",
   "metadata": {},
   "source": [
    "## Linear Regression"
   ]
  },
  {
   "cell_type": "code",
   "execution_count": null,
   "metadata": {},
   "outputs": [],
   "source": []
  },
  {
   "cell_type": "markdown",
   "metadata": {},
   "source": [
    "####  Northern Hemisphere - Max Temp vs. Latitude Linear Regression"
   ]
  },
  {
   "cell_type": "code",
   "execution_count": null,
   "metadata": {},
   "outputs": [],
   "source": []
  },
  {
   "cell_type": "markdown",
   "metadata": {},
   "source": [
    "####  Southern Hemisphere - Max Temp vs. Latitude Linear Regression"
   ]
  },
  {
   "cell_type": "code",
   "execution_count": null,
   "metadata": {},
   "outputs": [],
   "source": []
  },
  {
   "cell_type": "markdown",
   "metadata": {},
   "source": [
    "####  Northern Hemisphere - Humidity (%) vs. Latitude Linear Regression"
   ]
  },
  {
   "cell_type": "code",
   "execution_count": null,
   "metadata": {},
   "outputs": [],
   "source": []
  },
  {
   "cell_type": "markdown",
   "metadata": {},
   "source": [
    "####  Southern Hemisphere - Humidity (%) vs. Latitude Linear Regression"
   ]
  },
  {
   "cell_type": "code",
   "execution_count": null,
   "metadata": {},
   "outputs": [],
   "source": []
  },
  {
   "cell_type": "markdown",
   "metadata": {},
   "source": [
    "####  Northern Hemisphere - Cloudiness (%) vs. Latitude Linear Regression"
   ]
  },
  {
   "cell_type": "code",
   "execution_count": null,
   "metadata": {},
   "outputs": [],
   "source": []
  },
  {
   "cell_type": "markdown",
   "metadata": {},
   "source": [
    "####  Southern Hemisphere - Cloudiness (%) vs. Latitude Linear Regression"
   ]
  },
  {
   "cell_type": "code",
   "execution_count": null,
   "metadata": {},
   "outputs": [],
   "source": []
  },
  {
   "cell_type": "markdown",
   "metadata": {},
   "source": [
    "####  Northern Hemisphere - Wind Speed (mph) vs. Latitude Linear Regression"
   ]
  },
  {
   "cell_type": "code",
   "execution_count": null,
   "metadata": {},
   "outputs": [],
   "source": []
  },
  {
   "cell_type": "markdown",
   "metadata": {},
   "source": [
    "####  Southern Hemisphere - Wind Speed (mph) vs. Latitude Linear Regression"
   ]
  },
  {
   "cell_type": "code",
   "execution_count": null,
   "metadata": {},
   "outputs": [],
   "source": []
  },
  {
   "cell_type": "code",
   "execution_count": null,
   "metadata": {},
   "outputs": [],
   "source": []
  }
 ],
 "metadata": {
  "anaconda-cloud": {},
  "kernel_info": {
   "name": "python3"
  },
  "kernelspec": {
   "display_name": "Python 3",
   "language": "python",
   "name": "python3"
  },
  "language_info": {
   "codemirror_mode": {
    "name": "ipython",
    "version": 3
   },
   "file_extension": ".py",
   "mimetype": "text/x-python",
   "name": "python",
   "nbconvert_exporter": "python",
   "pygments_lexer": "ipython3",
   "version": "3.7.6"
  },
  "latex_envs": {
   "LaTeX_envs_menu_present": true,
   "autoclose": false,
   "autocomplete": true,
   "bibliofile": "biblio.bib",
   "cite_by": "apalike",
   "current_citInitial": 1,
   "eqLabelWithNumbers": true,
   "eqNumInitial": 1,
   "hotkeys": {
    "equation": "Ctrl-E",
    "itemize": "Ctrl-I"
   },
   "labels_anchors": false,
   "latex_user_defs": false,
   "report_style_numbering": false,
   "user_envs_cfg": false
  },
  "nteract": {
   "version": "0.12.3"
  }
 },
 "nbformat": 4,
 "nbformat_minor": 2
}
